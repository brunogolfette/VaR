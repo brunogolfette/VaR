{
 "cells": [
  {
   "cell_type": "code",
   "execution_count": 1,
   "metadata": {},
   "outputs": [],
   "source": [
    "import numpy as np\n",
    "import scipy.stats\n",
    "import datetime as dt\n",
    "import matplotlib.pyplot as plt\n",
    "import pandas as pd\n",
    "%matplotlib inline\n",
    "%config InlineBackend.figure_formats=['png']\n",
    "\n"
   ]
  },
  {
   "cell_type": "code",
   "execution_count": 2,
   "metadata": {},
   "outputs": [],
   "source": [
    "df = pd.read_excel('Dados para VaR em python.xlsx')\n",
    "df2 = pd.read_excel('equities_baseantiga1.xlsx')\n",
    "\n"
   ]
  },
  {
   "cell_type": "code",
   "execution_count": 43,
   "metadata": {},
   "outputs": [
    {
     "data": {
      "text/plain": [
       "9"
      ]
     },
     "execution_count": 43,
     "metadata": {},
     "output_type": "execute_result"
    }
   ],
   "source": [
    "len(df2.columns.values)-1"
   ]
  },
  {
   "cell_type": "code",
   "execution_count": 3,
   "metadata": {},
   "outputs": [],
   "source": [
    "df_acao = df2.copy()"
   ]
  },
  {
   "cell_type": "code",
   "execution_count": 8,
   "metadata": {
    "scrolled": true
   },
   "outputs": [],
   "source": [
    "teste = df_acao.describe()"
   ]
  },
  {
   "cell_type": "code",
   "execution_count": 24,
   "metadata": {},
   "outputs": [
    {
     "data": {
      "text/html": [
       "<div>\n",
       "<style scoped>\n",
       "    .dataframe tbody tr th:only-of-type {\n",
       "        vertical-align: middle;\n",
       "    }\n",
       "\n",
       "    .dataframe tbody tr th {\n",
       "        vertical-align: top;\n",
       "    }\n",
       "\n",
       "    .dataframe thead th {\n",
       "        text-align: right;\n",
       "    }\n",
       "</style>\n",
       "<table border=\"1\" class=\"dataframe\">\n",
       "  <thead>\n",
       "    <tr style=\"text-align: right;\">\n",
       "      <th></th>\n",
       "      <th>EWZ</th>\n",
       "      <th>OIL US</th>\n",
       "      <th>BAC US</th>\n",
       "      <th>AAPL</th>\n",
       "      <th>GDX</th>\n",
       "      <th>FXI</th>\n",
       "      <th>EEM</th>\n",
       "      <th>GS</th>\n",
       "      <th>XOM</th>\n",
       "    </tr>\n",
       "  </thead>\n",
       "  <tbody>\n",
       "    <tr>\n",
       "      <th>count</th>\n",
       "      <td>777.000000</td>\n",
       "      <td>777.000000</td>\n",
       "      <td>777.000000</td>\n",
       "      <td>777.000000</td>\n",
       "      <td>777.000000</td>\n",
       "      <td>777.000000</td>\n",
       "      <td>777.000000</td>\n",
       "      <td>777.000000</td>\n",
       "      <td>777.000000</td>\n",
       "    </tr>\n",
       "    <tr>\n",
       "      <th>mean</th>\n",
       "      <td>62.691294</td>\n",
       "      <td>24.524903</td>\n",
       "      <td>13.199434</td>\n",
       "      <td>236.985641</td>\n",
       "      <td>47.396846</td>\n",
       "      <td>38.612588</td>\n",
       "      <td>38.358814</td>\n",
       "      <td>140.121129</td>\n",
       "      <td>71.695360</td>\n",
       "    </tr>\n",
       "    <tr>\n",
       "      <th>std</th>\n",
       "      <td>14.391840</td>\n",
       "      <td>4.653801</td>\n",
       "      <td>4.051617</td>\n",
       "      <td>98.164354</td>\n",
       "      <td>10.980706</td>\n",
       "      <td>6.243350</td>\n",
       "      <td>8.093572</td>\n",
       "      <td>30.854583</td>\n",
       "      <td>7.115156</td>\n",
       "    </tr>\n",
       "    <tr>\n",
       "      <th>min</th>\n",
       "      <td>26.890000</td>\n",
       "      <td>14.640000</td>\n",
       "      <td>3.140000</td>\n",
       "      <td>78.200000</td>\n",
       "      <td>16.370000</td>\n",
       "      <td>19.420000</td>\n",
       "      <td>18.260000</td>\n",
       "      <td>52.000000</td>\n",
       "      <td>56.570000</td>\n",
       "    </tr>\n",
       "    <tr>\n",
       "      <th>25%</th>\n",
       "      <td>54.230000</td>\n",
       "      <td>22.120000</td>\n",
       "      <td>11.240000</td>\n",
       "      <td>144.670000</td>\n",
       "      <td>39.300000</td>\n",
       "      <td>35.880000</td>\n",
       "      <td>33.740000</td>\n",
       "      <td>121.350000</td>\n",
       "      <td>66.950000</td>\n",
       "    </tr>\n",
       "    <tr>\n",
       "      <th>50%</th>\n",
       "      <td>67.760000</td>\n",
       "      <td>24.120000</td>\n",
       "      <td>13.520000</td>\n",
       "      <td>242.430000</td>\n",
       "      <td>49.130000</td>\n",
       "      <td>40.920000</td>\n",
       "      <td>40.200000</td>\n",
       "      <td>147.880000</td>\n",
       "      <td>70.650000</td>\n",
       "    </tr>\n",
       "    <tr>\n",
       "      <th>75%</th>\n",
       "      <td>73.970000</td>\n",
       "      <td>25.860000</td>\n",
       "      <td>15.740000</td>\n",
       "      <td>331.290000</td>\n",
       "      <td>56.460000</td>\n",
       "      <td>43.090000</td>\n",
       "      <td>45.400000</td>\n",
       "      <td>163.630000</td>\n",
       "      <td>76.780000</td>\n",
       "    </tr>\n",
       "    <tr>\n",
       "      <th>max</th>\n",
       "      <td>81.580000</td>\n",
       "      <td>55.150000</td>\n",
       "      <td>34.480000</td>\n",
       "      <td>422.240000</td>\n",
       "      <td>66.630000</td>\n",
       "      <td>47.930000</td>\n",
       "      <td>50.200000</td>\n",
       "      <td>192.280000</td>\n",
       "      <td>87.980000</td>\n",
       "    </tr>\n",
       "  </tbody>\n",
       "</table>\n",
       "</div>"
      ],
      "text/plain": [
       "              EWZ      OIL US      BAC US        AAPL         GDX         FXI  \\\n",
       "count  777.000000  777.000000  777.000000  777.000000  777.000000  777.000000   \n",
       "mean    62.691294   24.524903   13.199434  236.985641   47.396846   38.612588   \n",
       "std     14.391840    4.653801    4.051617   98.164354   10.980706    6.243350   \n",
       "min     26.890000   14.640000    3.140000   78.200000   16.370000   19.420000   \n",
       "25%     54.230000   22.120000   11.240000  144.670000   39.300000   35.880000   \n",
       "50%     67.760000   24.120000   13.520000  242.430000   49.130000   40.920000   \n",
       "75%     73.970000   25.860000   15.740000  331.290000   56.460000   43.090000   \n",
       "max     81.580000   55.150000   34.480000  422.240000   66.630000   47.930000   \n",
       "\n",
       "              EEM          GS         XOM  \n",
       "count  777.000000  777.000000  777.000000  \n",
       "mean    38.358814  140.121129   71.695360  \n",
       "std      8.093572   30.854583    7.115156  \n",
       "min     18.260000   52.000000   56.570000  \n",
       "25%     33.740000  121.350000   66.950000  \n",
       "50%     40.200000  147.880000   70.650000  \n",
       "75%     45.400000  163.630000   76.780000  \n",
       "max     50.200000  192.280000   87.980000  "
      ]
     },
     "execution_count": 24,
     "metadata": {},
     "output_type": "execute_result"
    }
   ],
   "source": [
    "teste"
   ]
  },
  {
   "cell_type": "code",
   "execution_count": 25,
   "metadata": {},
   "outputs": [
    {
     "data": {
      "text/plain": [
       "EWZ       0.229567\n",
       "OIL US    0.189758\n",
       "BAC US    0.306954\n",
       "AAPL      0.414221\n",
       "GDX       0.231676\n",
       "FXI       0.161692\n",
       "EEM       0.210996\n",
       "GS        0.220199\n",
       "XOM       0.099242\n",
       "dtype: float64"
      ]
     },
     "execution_count": 25,
     "metadata": {},
     "output_type": "execute_result"
    }
   ],
   "source": [
    "teste.loc['std']/teste.loc['mean']"
   ]
  },
  {
   "cell_type": "code",
   "execution_count": 27,
   "metadata": {},
   "outputs": [
    {
     "data": {
      "text/plain": [
       "datetime.date(2011, 11, 1)"
      ]
     },
     "execution_count": 27,
     "metadata": {},
     "output_type": "execute_result"
    }
   ],
   "source": [
    "df_acao['Date'].max().date()"
   ]
  },
  {
   "cell_type": "code",
   "execution_count": 28,
   "metadata": {},
   "outputs": [],
   "source": [
    "start = df_acao['Date'].min().date()\n",
    "end   = df_acao['Date'].max().date()"
   ]
  },
  {
   "cell_type": "code",
   "execution_count": 30,
   "metadata": {},
   "outputs": [
    {
     "data": {
      "text/plain": [
       "datetime.date(2011, 11, 1)"
      ]
     },
     "execution_count": 30,
     "metadata": {},
     "output_type": "execute_result"
    }
   ],
   "source": [
    "end"
   ]
  },
  {
   "cell_type": "code",
   "execution_count": 16,
   "metadata": {},
   "outputs": [],
   "source": [
    "##Para uma ação\n",
    "# print('Digite a ação, possíveis:')\n",
    "# print(', '.join(df_acao.columns[1:].values))\n",
    "#nome = input(\"Qual ? \") "
   ]
  },
  {
   "cell_type": "code",
   "execution_count": 91,
   "metadata": {},
   "outputs": [
    {
     "data": {
      "text/html": [
       "<div>\n",
       "<style scoped>\n",
       "    .dataframe tbody tr th:only-of-type {\n",
       "        vertical-align: middle;\n",
       "    }\n",
       "\n",
       "    .dataframe tbody tr th {\n",
       "        vertical-align: top;\n",
       "    }\n",
       "\n",
       "    .dataframe thead th {\n",
       "        text-align: right;\n",
       "    }\n",
       "</style>\n",
       "<table border=\"1\" class=\"dataframe\">\n",
       "  <thead>\n",
       "    <tr style=\"text-align: right;\">\n",
       "      <th></th>\n",
       "      <th>Date</th>\n",
       "      <th>EWZ</th>\n",
       "      <th>OIL US</th>\n",
       "      <th>BAC US</th>\n",
       "      <th>AAPL</th>\n",
       "      <th>GDX</th>\n",
       "      <th>FXI</th>\n",
       "      <th>EEM</th>\n",
       "      <th>GS</th>\n",
       "      <th>XOM</th>\n",
       "    </tr>\n",
       "  </thead>\n",
       "  <tbody>\n",
       "    <tr>\n",
       "      <th>0</th>\n",
       "      <td>2011-11-01</td>\n",
       "      <td>60.55</td>\n",
       "      <td>23.052</td>\n",
       "      <td>6.40</td>\n",
       "      <td>396.51</td>\n",
       "      <td>58.51</td>\n",
       "      <td>35.51</td>\n",
       "      <td>39.820</td>\n",
       "      <td>103.54</td>\n",
       "      <td>75.94</td>\n",
       "    </tr>\n",
       "    <tr>\n",
       "      <th>1</th>\n",
       "      <td>2011-10-31</td>\n",
       "      <td>62.37</td>\n",
       "      <td>23.480</td>\n",
       "      <td>6.83</td>\n",
       "      <td>404.78</td>\n",
       "      <td>58.83</td>\n",
       "      <td>36.06</td>\n",
       "      <td>40.815</td>\n",
       "      <td>109.55</td>\n",
       "      <td>78.09</td>\n",
       "    </tr>\n",
       "    <tr>\n",
       "      <th>2</th>\n",
       "      <td>2011-10-28</td>\n",
       "      <td>64.51</td>\n",
       "      <td>23.660</td>\n",
       "      <td>7.35</td>\n",
       "      <td>404.95</td>\n",
       "      <td>60.48</td>\n",
       "      <td>37.79</td>\n",
       "      <td>42.400</td>\n",
       "      <td>115.86</td>\n",
       "      <td>81.48</td>\n",
       "    </tr>\n",
       "    <tr>\n",
       "      <th>3</th>\n",
       "      <td>2011-10-27</td>\n",
       "      <td>63.14</td>\n",
       "      <td>23.780</td>\n",
       "      <td>7.22</td>\n",
       "      <td>404.69</td>\n",
       "      <td>59.11</td>\n",
       "      <td>38.21</td>\n",
       "      <td>42.760</td>\n",
       "      <td>116.40</td>\n",
       "      <td>81.88</td>\n",
       "    </tr>\n",
       "    <tr>\n",
       "      <th>4</th>\n",
       "      <td>2011-10-26</td>\n",
       "      <td>59.64</td>\n",
       "      <td>22.980</td>\n",
       "      <td>6.59</td>\n",
       "      <td>400.60</td>\n",
       "      <td>57.97</td>\n",
       "      <td>36.13</td>\n",
       "      <td>40.310</td>\n",
       "      <td>106.33</td>\n",
       "      <td>81.07</td>\n",
       "    </tr>\n",
       "  </tbody>\n",
       "</table>\n",
       "</div>"
      ],
      "text/plain": [
       "        Date    EWZ  OIL US  BAC US    AAPL    GDX    FXI     EEM      GS  \\\n",
       "0 2011-11-01  60.55  23.052    6.40  396.51  58.51  35.51  39.820  103.54   \n",
       "1 2011-10-31  62.37  23.480    6.83  404.78  58.83  36.06  40.815  109.55   \n",
       "2 2011-10-28  64.51  23.660    7.35  404.95  60.48  37.79  42.400  115.86   \n",
       "3 2011-10-27  63.14  23.780    7.22  404.69  59.11  38.21  42.760  116.40   \n",
       "4 2011-10-26  59.64  22.980    6.59  400.60  57.97  36.13  40.310  106.33   \n",
       "\n",
       "     XOM  \n",
       "0  75.94  \n",
       "1  78.09  \n",
       "2  81.48  \n",
       "3  81.88  \n",
       "4  81.07  "
      ]
     },
     "execution_count": 91,
     "metadata": {},
     "output_type": "execute_result"
    }
   ],
   "source": [
    "df_acao.head()"
   ]
  },
  {
   "cell_type": "code",
   "execution_count": 31,
   "metadata": {},
   "outputs": [],
   "source": [
    "df_acao = df2.copy()\n",
    "df_acao.set_index('Date', inplace = True)\n",
    "AMOUNT = pd.Series([1000,1000,1000,1000,1000,1000,1000,1000,1000])"
   ]
  },
  {
   "cell_type": "code",
   "execution_count": 35,
   "metadata": {},
   "outputs": [],
   "source": [
    "AMOUNT.name = 'Quantidade'"
   ]
  },
  {
   "cell_type": "code",
   "execution_count": 38,
   "metadata": {},
   "outputs": [
    {
     "data": {
      "image/png": "[encoded data removed]",
      "text/plain": [
       "<Figure size 432x288 with 1 Axes>"
      ]
     },
     "metadata": {},
     "output_type": "display_data"
    }
   ],
   "source": [
    "AMOUNT.hist()\n",
    "plt.show()"
   ]
  },
  {
   "cell_type": "code",
   "execution_count": 44,
   "metadata": {},
   "outputs": [],
   "source": [
    "df_acao = df2.copy()\n",
    "df_acao.set_index('Date', inplace = True)\n",
    "AMOUNT = pd.Series([1000,1000,1000,1000,1000,1000,1000,1000,1000])\n",
    "P = pd.Series([60.55,23.05,6.72,397.41,59.96,37.44,41.04,106.13,77.37])\n",
    "#P = pd.Series([16.76,12.50,69.51,49.12,24.17,29.440,15.40])\n",
    "Position = P * AMOUNT\n",
    "N = AMOUNT.count()\n",
    "linhas = ['QUANTIDADE', 'PRECO', 'DELTA']\n",
    "df_par = pd.DataFrame([AMOUNT,P,Position])\n",
    "df_par.columns = df_acao.columns.values\n",
    "df_par.index  = linhas"
   ]
  },
  {
   "cell_type": "code",
   "execution_count": 45,
   "metadata": {},
   "outputs": [
    {
     "data": {
      "text/html": [
       "<div>\n",
       "<style scoped>\n",
       "    .dataframe tbody tr th:only-of-type {\n",
       "        vertical-align: middle;\n",
       "    }\n",
       "\n",
       "    .dataframe tbody tr th {\n",
       "        vertical-align: top;\n",
       "    }\n",
       "\n",
       "    .dataframe thead th {\n",
       "        text-align: right;\n",
       "    }\n",
       "</style>\n",
       "<table border=\"1\" class=\"dataframe\">\n",
       "  <thead>\n",
       "    <tr style=\"text-align: right;\">\n",
       "      <th></th>\n",
       "      <th>EWZ</th>\n",
       "      <th>OIL US</th>\n",
       "      <th>BAC US</th>\n",
       "      <th>AAPL</th>\n",
       "      <th>GDX</th>\n",
       "      <th>FXI</th>\n",
       "      <th>EEM</th>\n",
       "      <th>GS</th>\n",
       "      <th>XOM</th>\n",
       "    </tr>\n",
       "  </thead>\n",
       "  <tbody>\n",
       "    <tr>\n",
       "      <th>QUANTIDADE</th>\n",
       "      <td>1000.00</td>\n",
       "      <td>1000.00</td>\n",
       "      <td>1000.00</td>\n",
       "      <td>1000.00</td>\n",
       "      <td>1000.00</td>\n",
       "      <td>1000.00</td>\n",
       "      <td>1000.00</td>\n",
       "      <td>1000.00</td>\n",
       "      <td>1000.00</td>\n",
       "    </tr>\n",
       "    <tr>\n",
       "      <th>PRECO</th>\n",
       "      <td>60.55</td>\n",
       "      <td>23.05</td>\n",
       "      <td>6.72</td>\n",
       "      <td>397.41</td>\n",
       "      <td>59.96</td>\n",
       "      <td>37.44</td>\n",
       "      <td>41.04</td>\n",
       "      <td>106.13</td>\n",
       "      <td>77.37</td>\n",
       "    </tr>\n",
       "    <tr>\n",
       "      <th>DELTA</th>\n",
       "      <td>60550.00</td>\n",
       "      <td>23050.00</td>\n",
       "      <td>6720.00</td>\n",
       "      <td>397410.00</td>\n",
       "      <td>59960.00</td>\n",
       "      <td>37440.00</td>\n",
       "      <td>41040.00</td>\n",
       "      <td>106130.00</td>\n",
       "      <td>77370.00</td>\n",
       "    </tr>\n",
       "  </tbody>\n",
       "</table>\n",
       "</div>"
      ],
      "text/plain": [
       "                 EWZ    OIL US   BAC US       AAPL       GDX       FXI  \\\n",
       "QUANTIDADE   1000.00   1000.00  1000.00    1000.00   1000.00   1000.00   \n",
       "PRECO          60.55     23.05     6.72     397.41     59.96     37.44   \n",
       "DELTA       60550.00  23050.00  6720.00  397410.00  59960.00  37440.00   \n",
       "\n",
       "                 EEM         GS       XOM  \n",
       "QUANTIDADE   1000.00    1000.00   1000.00  \n",
       "PRECO          41.04     106.13     77.37  \n",
       "DELTA       41040.00  106130.00  77370.00  "
      ]
     },
     "execution_count": 45,
     "metadata": {},
     "output_type": "execute_result"
    }
   ],
   "source": [
    "df_par"
   ]
  },
  {
   "cell_type": "code",
   "execution_count": 46,
   "metadata": {},
   "outputs": [],
   "source": [
    "col = []\n",
    "col_ret = []\n",
    "col_pl = []\n",
    "col_pr = []\n",
    "df_acao = df_acao.sort_values(by = 'Date',ascending = True)\n",
    "for acao in df_acao:     \n",
    "    name_ret = df_acao[acao].name + '_RET'\n",
    "    name_pl = df_acao[acao].name + '_PL'\n",
    "    df_acao[name_ret] = df_acao[acao].pct_change()\n",
    "    df_acao[name_pl] = df_acao[name_ret]*df_par[acao].DELTA\n",
    "    #df_PL = df_PL.append(df_acao[name_pl].reset_index()[name_pl])\n",
    "    col.append(acao)\n",
    "    col.append(name_ret)\n",
    "    col.append(name_pl)\n",
    "    col_pr.append(acao)\n",
    "    col_ret.append(name_ret)\n",
    "    col_pl.append(name_pl)\n",
    "\n",
    "df_acao = df_acao[col]\n",
    "df_acao = df_acao.sort_values(by = 'Date',ascending = False)\n"
   ]
  },
  {
   "cell_type": "code",
   "execution_count": 47,
   "metadata": {},
   "outputs": [
    {
     "data": {
      "text/html": [
       "<div>\n",
       "<style scoped>\n",
       "    .dataframe tbody tr th:only-of-type {\n",
       "        vertical-align: middle;\n",
       "    }\n",
       "\n",
       "    .dataframe tbody tr th {\n",
       "        vertical-align: top;\n",
       "    }\n",
       "\n",
       "    .dataframe thead th {\n",
       "        text-align: right;\n",
       "    }\n",
       "</style>\n",
       "<table border=\"1\" class=\"dataframe\">\n",
       "  <thead>\n",
       "    <tr style=\"text-align: right;\">\n",
       "      <th></th>\n",
       "      <th>EWZ</th>\n",
       "      <th>EWZ_RET</th>\n",
       "      <th>EWZ_PL</th>\n",
       "      <th>OIL US</th>\n",
       "      <th>OIL US_RET</th>\n",
       "      <th>OIL US_PL</th>\n",
       "      <th>BAC US</th>\n",
       "      <th>BAC US_RET</th>\n",
       "      <th>BAC US_PL</th>\n",
       "      <th>AAPL</th>\n",
       "      <th>...</th>\n",
       "      <th>FXI_PL</th>\n",
       "      <th>EEM</th>\n",
       "      <th>EEM_RET</th>\n",
       "      <th>EEM_PL</th>\n",
       "      <th>GS</th>\n",
       "      <th>GS_RET</th>\n",
       "      <th>GS_PL</th>\n",
       "      <th>XOM</th>\n",
       "      <th>XOM_RET</th>\n",
       "      <th>XOM_PL</th>\n",
       "    </tr>\n",
       "    <tr>\n",
       "      <th>Date</th>\n",
       "      <th></th>\n",
       "      <th></th>\n",
       "      <th></th>\n",
       "      <th></th>\n",
       "      <th></th>\n",
       "      <th></th>\n",
       "      <th></th>\n",
       "      <th></th>\n",
       "      <th></th>\n",
       "      <th></th>\n",
       "      <th></th>\n",
       "      <th></th>\n",
       "      <th></th>\n",
       "      <th></th>\n",
       "      <th></th>\n",
       "      <th></th>\n",
       "      <th></th>\n",
       "      <th></th>\n",
       "      <th></th>\n",
       "      <th></th>\n",
       "      <th></th>\n",
       "    </tr>\n",
       "  </thead>\n",
       "  <tbody>\n",
       "    <tr>\n",
       "      <th>2011-11-01</th>\n",
       "      <td>60.55</td>\n",
       "      <td>-0.029181</td>\n",
       "      <td>-1766.891134</td>\n",
       "      <td>23.052</td>\n",
       "      <td>-0.018228</td>\n",
       "      <td>-420.161840</td>\n",
       "      <td>6.40</td>\n",
       "      <td>-0.062958</td>\n",
       "      <td>-423.074671</td>\n",
       "      <td>396.51</td>\n",
       "      <td>...</td>\n",
       "      <td>-571.048253</td>\n",
       "      <td>39.820</td>\n",
       "      <td>-0.024378</td>\n",
       "      <td>-1000.485116</td>\n",
       "      <td>103.54</td>\n",
       "      <td>-0.054861</td>\n",
       "      <td>-5822.376084</td>\n",
       "      <td>75.94</td>\n",
       "      <td>-0.027532</td>\n",
       "      <td>-2130.176719</td>\n",
       "    </tr>\n",
       "    <tr>\n",
       "      <th>2011-10-31</th>\n",
       "      <td>62.37</td>\n",
       "      <td>-0.033173</td>\n",
       "      <td>-2008.634320</td>\n",
       "      <td>23.480</td>\n",
       "      <td>-0.007608</td>\n",
       "      <td>-175.359256</td>\n",
       "      <td>6.83</td>\n",
       "      <td>-0.070748</td>\n",
       "      <td>-475.428571</td>\n",
       "      <td>404.78</td>\n",
       "      <td>...</td>\n",
       "      <td>-1713.977243</td>\n",
       "      <td>40.815</td>\n",
       "      <td>-0.037382</td>\n",
       "      <td>-1534.160377</td>\n",
       "      <td>109.55</td>\n",
       "      <td>-0.054462</td>\n",
       "      <td>-5780.081996</td>\n",
       "      <td>78.09</td>\n",
       "      <td>-0.041605</td>\n",
       "      <td>-3219.002209</td>\n",
       "    </tr>\n",
       "    <tr>\n",
       "      <th>2011-10-28</th>\n",
       "      <td>64.51</td>\n",
       "      <td>0.021698</td>\n",
       "      <td>1313.802661</td>\n",
       "      <td>23.660</td>\n",
       "      <td>-0.005046</td>\n",
       "      <td>-116.316232</td>\n",
       "      <td>7.35</td>\n",
       "      <td>0.018006</td>\n",
       "      <td>120.997230</td>\n",
       "      <td>404.95</td>\n",
       "      <td>...</td>\n",
       "      <td>-411.536247</td>\n",
       "      <td>42.400</td>\n",
       "      <td>-0.008419</td>\n",
       "      <td>-345.519177</td>\n",
       "      <td>115.86</td>\n",
       "      <td>-0.004639</td>\n",
       "      <td>-492.355670</td>\n",
       "      <td>81.48</td>\n",
       "      <td>-0.004885</td>\n",
       "      <td>-377.967758</td>\n",
       "    </tr>\n",
       "    <tr>\n",
       "      <th>2011-10-27</th>\n",
       "      <td>63.14</td>\n",
       "      <td>0.058685</td>\n",
       "      <td>3553.403756</td>\n",
       "      <td>23.780</td>\n",
       "      <td>0.034813</td>\n",
       "      <td>802.436902</td>\n",
       "      <td>7.22</td>\n",
       "      <td>0.095599</td>\n",
       "      <td>642.427921</td>\n",
       "      <td>404.69</td>\n",
       "      <td>...</td>\n",
       "      <td>2155.416551</td>\n",
       "      <td>42.760</td>\n",
       "      <td>0.060779</td>\n",
       "      <td>2494.368643</td>\n",
       "      <td>116.40</td>\n",
       "      <td>0.094705</td>\n",
       "      <td>10051.058967</td>\n",
       "      <td>81.88</td>\n",
       "      <td>0.009991</td>\n",
       "      <td>773.031948</td>\n",
       "    </tr>\n",
       "    <tr>\n",
       "      <th>2011-10-26</th>\n",
       "      <td>59.64</td>\n",
       "      <td>0.016533</td>\n",
       "      <td>1001.082325</td>\n",
       "      <td>22.980</td>\n",
       "      <td>-0.022544</td>\n",
       "      <td>-519.629945</td>\n",
       "      <td>6.59</td>\n",
       "      <td>0.020124</td>\n",
       "      <td>135.232198</td>\n",
       "      <td>400.60</td>\n",
       "      <td>...</td>\n",
       "      <td>1509.242730</td>\n",
       "      <td>40.310</td>\n",
       "      <td>0.018444</td>\n",
       "      <td>756.927741</td>\n",
       "      <td>106.33</td>\n",
       "      <td>0.058642</td>\n",
       "      <td>6223.672840</td>\n",
       "      <td>81.07</td>\n",
       "      <td>0.020519</td>\n",
       "      <td>1587.526435</td>\n",
       "    </tr>\n",
       "  </tbody>\n",
       "</table>\n",
       "<p>5 rows × 27 columns</p>\n",
       "</div>"
      ],
      "text/plain": [
       "              EWZ   EWZ_RET       EWZ_PL  OIL US  OIL US_RET   OIL US_PL  \\\n",
       "Date                                                                       \n",
       "2011-11-01  60.55 -0.029181 -1766.891134  23.052   -0.018228 -420.161840   \n",
       "2011-10-31  62.37 -0.033173 -2008.634320  23.480   -0.007608 -175.359256   \n",
       "2011-10-28  64.51  0.021698  1313.802661  23.660   -0.005046 -116.316232   \n",
       "2011-10-27  63.14  0.058685  3553.403756  23.780    0.034813  802.436902   \n",
       "2011-10-26  59.64  0.016533  1001.082325  22.980   -0.022544 -519.629945   \n",
       "\n",
       "            BAC US  BAC US_RET   BAC US_PL    AAPL     ...            FXI_PL  \\\n",
       "Date                                                   ...                     \n",
       "2011-11-01    6.40   -0.062958 -423.074671  396.51     ...       -571.048253   \n",
       "2011-10-31    6.83   -0.070748 -475.428571  404.78     ...      -1713.977243   \n",
       "2011-10-28    7.35    0.018006  120.997230  404.95     ...       -411.536247   \n",
       "2011-10-27    7.22    0.095599  642.427921  404.69     ...       2155.416551   \n",
       "2011-10-26    6.59    0.020124  135.232198  400.60     ...       1509.242730   \n",
       "\n",
       "               EEM   EEM_RET       EEM_PL      GS    GS_RET         GS_PL  \\\n",
       "Date                                                                        \n",
       "2011-11-01  39.820 -0.024378 -1000.485116  103.54 -0.054861  -5822.376084   \n",
       "2011-10-31  40.815 -0.037382 -1534.160377  109.55 -0.054462  -5780.081996   \n",
       "2011-10-28  42.400 -0.008419  -345.519177  115.86 -0.004639   -492.355670   \n",
       "2011-10-27  42.760  0.060779  2494.368643  116.40  0.094705  10051.058967   \n",
       "2011-10-26  40.310  0.018444   756.927741  106.33  0.058642   6223.672840   \n",
       "\n",
       "              XOM   XOM_RET       XOM_PL  \n",
       "Date                                      \n",
       "2011-11-01  75.94 -0.027532 -2130.176719  \n",
       "2011-10-31  78.09 -0.041605 -3219.002209  \n",
       "2011-10-28  81.48 -0.004885  -377.967758  \n",
       "2011-10-27  81.88  0.009991   773.031948  \n",
       "2011-10-26  81.07  0.020519  1587.526435  \n",
       "\n",
       "[5 rows x 27 columns]"
      ]
     },
     "execution_count": 47,
     "metadata": {},
     "output_type": "execute_result"
    }
   ],
   "source": [
    "df_acao.head()"
   ]
  },
  {
   "cell_type": "code",
   "execution_count": 48,
   "metadata": {},
   "outputs": [],
   "source": [
    "df_PL = df_acao[col_pl].copy()\n",
    "df_RT = df_acao[col_ret].copy()\n",
    "df_PR = df_acao[col_pr].copy()"
   ]
  },
  {
   "cell_type": "code",
   "execution_count": 55,
   "metadata": {},
   "outputs": [
    {
     "data": {
      "text/plain": [
       "['EWZ', 'OIL US', 'BAC US', 'AAPL', 'GDX', 'FXI', 'EEM', 'GS', 'XOM']"
      ]
     },
     "execution_count": 55,
     "metadata": {},
     "output_type": "execute_result"
    }
   ],
   "source": []
  },
  {
   "cell_type": "code",
   "execution_count": 50,
   "metadata": {},
   "outputs": [],
   "source": [
    "df_RT['TOTALSUM_RET'] = df_RT.sum(1)"
   ]
  },
  {
   "cell_type": "code",
   "execution_count": 51,
   "metadata": {},
   "outputs": [
    {
     "data": {
      "text/html": [
       "<div>\n",
       "<style scoped>\n",
       "    .dataframe tbody tr th:only-of-type {\n",
       "        vertical-align: middle;\n",
       "    }\n",
       "\n",
       "    .dataframe tbody tr th {\n",
       "        vertical-align: top;\n",
       "    }\n",
       "\n",
       "    .dataframe thead th {\n",
       "        text-align: right;\n",
       "    }\n",
       "</style>\n",
       "<table border=\"1\" class=\"dataframe\">\n",
       "  <thead>\n",
       "    <tr style=\"text-align: right;\">\n",
       "      <th></th>\n",
       "      <th>EWZ_RET</th>\n",
       "      <th>OIL US_RET</th>\n",
       "      <th>BAC US_RET</th>\n",
       "      <th>AAPL_RET</th>\n",
       "      <th>GDX_RET</th>\n",
       "      <th>FXI_RET</th>\n",
       "      <th>EEM_RET</th>\n",
       "      <th>GS_RET</th>\n",
       "      <th>XOM_RET</th>\n",
       "      <th>TOTALSUM_RET</th>\n",
       "    </tr>\n",
       "    <tr>\n",
       "      <th>Date</th>\n",
       "      <th></th>\n",
       "      <th></th>\n",
       "      <th></th>\n",
       "      <th></th>\n",
       "      <th></th>\n",
       "      <th></th>\n",
       "      <th></th>\n",
       "      <th></th>\n",
       "      <th></th>\n",
       "      <th></th>\n",
       "    </tr>\n",
       "  </thead>\n",
       "  <tbody>\n",
       "    <tr>\n",
       "      <th>2011-11-01</th>\n",
       "      <td>-0.029181</td>\n",
       "      <td>-0.018228</td>\n",
       "      <td>-0.062958</td>\n",
       "      <td>-0.020431</td>\n",
       "      <td>-0.005439</td>\n",
       "      <td>-0.015252</td>\n",
       "      <td>-0.024378</td>\n",
       "      <td>-0.054861</td>\n",
       "      <td>-0.027532</td>\n",
       "      <td>-0.258261</td>\n",
       "    </tr>\n",
       "    <tr>\n",
       "      <th>2011-10-31</th>\n",
       "      <td>-0.033173</td>\n",
       "      <td>-0.007608</td>\n",
       "      <td>-0.070748</td>\n",
       "      <td>-0.000420</td>\n",
       "      <td>-0.027282</td>\n",
       "      <td>-0.045779</td>\n",
       "      <td>-0.037382</td>\n",
       "      <td>-0.054462</td>\n",
       "      <td>-0.041605</td>\n",
       "      <td>-0.318460</td>\n",
       "    </tr>\n",
       "    <tr>\n",
       "      <th>2011-10-28</th>\n",
       "      <td>0.021698</td>\n",
       "      <td>-0.005046</td>\n",
       "      <td>0.018006</td>\n",
       "      <td>0.000642</td>\n",
       "      <td>0.023177</td>\n",
       "      <td>-0.010992</td>\n",
       "      <td>-0.008419</td>\n",
       "      <td>-0.004639</td>\n",
       "      <td>-0.004885</td>\n",
       "      <td>0.029541</td>\n",
       "    </tr>\n",
       "    <tr>\n",
       "      <th>2011-10-27</th>\n",
       "      <td>0.058685</td>\n",
       "      <td>0.034813</td>\n",
       "      <td>0.095599</td>\n",
       "      <td>0.010210</td>\n",
       "      <td>0.019665</td>\n",
       "      <td>0.057570</td>\n",
       "      <td>0.060779</td>\n",
       "      <td>0.094705</td>\n",
       "      <td>0.009991</td>\n",
       "      <td>0.442018</td>\n",
       "    </tr>\n",
       "    <tr>\n",
       "      <th>2011-10-26</th>\n",
       "      <td>0.016533</td>\n",
       "      <td>-0.022544</td>\n",
       "      <td>0.020124</td>\n",
       "      <td>0.007115</td>\n",
       "      <td>0.009051</td>\n",
       "      <td>0.040311</td>\n",
       "      <td>0.018444</td>\n",
       "      <td>0.058642</td>\n",
       "      <td>0.020519</td>\n",
       "      <td>0.168195</td>\n",
       "    </tr>\n",
       "  </tbody>\n",
       "</table>\n",
       "</div>"
      ],
      "text/plain": [
       "             EWZ_RET  OIL US_RET  BAC US_RET  AAPL_RET   GDX_RET   FXI_RET  \\\n",
       "Date                                                                         \n",
       "2011-11-01 -0.029181   -0.018228   -0.062958 -0.020431 -0.005439 -0.015252   \n",
       "2011-10-31 -0.033173   -0.007608   -0.070748 -0.000420 -0.027282 -0.045779   \n",
       "2011-10-28  0.021698   -0.005046    0.018006  0.000642  0.023177 -0.010992   \n",
       "2011-10-27  0.058685    0.034813    0.095599  0.010210  0.019665  0.057570   \n",
       "2011-10-26  0.016533   -0.022544    0.020124  0.007115  0.009051  0.040311   \n",
       "\n",
       "             EEM_RET    GS_RET   XOM_RET  TOTALSUM_RET  \n",
       "Date                                                    \n",
       "2011-11-01 -0.024378 -0.054861 -0.027532     -0.258261  \n",
       "2011-10-31 -0.037382 -0.054462 -0.041605     -0.318460  \n",
       "2011-10-28 -0.008419 -0.004639 -0.004885      0.029541  \n",
       "2011-10-27  0.060779  0.094705  0.009991      0.442018  \n",
       "2011-10-26  0.018444  0.058642  0.020519      0.168195  "
      ]
     },
     "execution_count": 51,
     "metadata": {},
     "output_type": "execute_result"
    }
   ],
   "source": [
    "df_RT.head()"
   ]
  },
  {
   "cell_type": "code",
   "execution_count": 56,
   "metadata": {},
   "outputs": [
    {
     "data": {
      "text/html": [
       "<div>\n",
       "<style scoped>\n",
       "    .dataframe tbody tr th:only-of-type {\n",
       "        vertical-align: middle;\n",
       "    }\n",
       "\n",
       "    .dataframe tbody tr th {\n",
       "        vertical-align: top;\n",
       "    }\n",
       "\n",
       "    .dataframe thead th {\n",
       "        text-align: right;\n",
       "    }\n",
       "</style>\n",
       "<table border=\"1\" class=\"dataframe\">\n",
       "  <thead>\n",
       "    <tr style=\"text-align: right;\">\n",
       "      <th></th>\n",
       "      <th>EWZ_PL</th>\n",
       "      <th>OIL US_PL</th>\n",
       "      <th>BAC US_PL</th>\n",
       "      <th>AAPL_PL</th>\n",
       "      <th>GDX_PL</th>\n",
       "      <th>FXI_PL</th>\n",
       "      <th>EEM_PL</th>\n",
       "      <th>GS_PL</th>\n",
       "      <th>XOM_PL</th>\n",
       "    </tr>\n",
       "    <tr>\n",
       "      <th>Date</th>\n",
       "      <th></th>\n",
       "      <th></th>\n",
       "      <th></th>\n",
       "      <th></th>\n",
       "      <th></th>\n",
       "      <th></th>\n",
       "      <th></th>\n",
       "      <th></th>\n",
       "      <th></th>\n",
       "    </tr>\n",
       "  </thead>\n",
       "  <tbody>\n",
       "    <tr>\n",
       "      <th>2011-11-01</th>\n",
       "      <td>-1766.891134</td>\n",
       "      <td>-420.161840</td>\n",
       "      <td>-423.074671</td>\n",
       "      <td>-8119.424626</td>\n",
       "      <td>-326.146524</td>\n",
       "      <td>-571.048253</td>\n",
       "      <td>-1000.485116</td>\n",
       "      <td>-5822.376084</td>\n",
       "      <td>-2130.176719</td>\n",
       "    </tr>\n",
       "    <tr>\n",
       "      <th>2011-10-31</th>\n",
       "      <td>-2008.634320</td>\n",
       "      <td>-175.359256</td>\n",
       "      <td>-475.428571</td>\n",
       "      <td>-166.834671</td>\n",
       "      <td>-1635.813492</td>\n",
       "      <td>-1713.977243</td>\n",
       "      <td>-1534.160377</td>\n",
       "      <td>-5780.081996</td>\n",
       "      <td>-3219.002209</td>\n",
       "    </tr>\n",
       "    <tr>\n",
       "      <th>2011-10-28</th>\n",
       "      <td>1313.802661</td>\n",
       "      <td>-116.316232</td>\n",
       "      <td>120.997230</td>\n",
       "      <td>255.322840</td>\n",
       "      <td>1389.700558</td>\n",
       "      <td>-411.536247</td>\n",
       "      <td>-345.519177</td>\n",
       "      <td>-492.355670</td>\n",
       "      <td>-377.967758</td>\n",
       "    </tr>\n",
       "    <tr>\n",
       "      <th>2011-10-27</th>\n",
       "      <td>3553.403756</td>\n",
       "      <td>802.436902</td>\n",
       "      <td>642.427921</td>\n",
       "      <td>4057.431103</td>\n",
       "      <td>1179.134035</td>\n",
       "      <td>2155.416551</td>\n",
       "      <td>2494.368643</td>\n",
       "      <td>10051.058967</td>\n",
       "      <td>773.031948</td>\n",
       "    </tr>\n",
       "    <tr>\n",
       "      <th>2011-10-26</th>\n",
       "      <td>1001.082325</td>\n",
       "      <td>-519.629945</td>\n",
       "      <td>135.232198</td>\n",
       "      <td>2827.438721</td>\n",
       "      <td>542.718886</td>\n",
       "      <td>1509.242730</td>\n",
       "      <td>756.927741</td>\n",
       "      <td>6223.672840</td>\n",
       "      <td>1587.526435</td>\n",
       "    </tr>\n",
       "  </tbody>\n",
       "</table>\n",
       "</div>"
      ],
      "text/plain": [
       "                 EWZ_PL   OIL US_PL   BAC US_PL      AAPL_PL       GDX_PL  \\\n",
       "Date                                                                        \n",
       "2011-11-01 -1766.891134 -420.161840 -423.074671 -8119.424626  -326.146524   \n",
       "2011-10-31 -2008.634320 -175.359256 -475.428571  -166.834671 -1635.813492   \n",
       "2011-10-28  1313.802661 -116.316232  120.997230   255.322840  1389.700558   \n",
       "2011-10-27  3553.403756  802.436902  642.427921  4057.431103  1179.134035   \n",
       "2011-10-26  1001.082325 -519.629945  135.232198  2827.438721   542.718886   \n",
       "\n",
       "                 FXI_PL       EEM_PL         GS_PL       XOM_PL  \n",
       "Date                                                             \n",
       "2011-11-01  -571.048253 -1000.485116  -5822.376084 -2130.176719  \n",
       "2011-10-31 -1713.977243 -1534.160377  -5780.081996 -3219.002209  \n",
       "2011-10-28  -411.536247  -345.519177   -492.355670  -377.967758  \n",
       "2011-10-27  2155.416551  2494.368643  10051.058967   773.031948  \n",
       "2011-10-26  1509.242730   756.927741   6223.672840  1587.526435  "
      ]
     },
     "execution_count": 56,
     "metadata": {},
     "output_type": "execute_result"
    }
   ],
   "source": [
    "df_PL.head()"
   ]
  },
  {
   "cell_type": "code",
   "execution_count": 57,
   "metadata": {},
   "outputs": [
    {
     "data": {
      "image/png": "[encoded data removed]",
      "text/plain": [
       "<Figure size 432x288 with 1 Axes>"
      ]
     },
     "metadata": {},
     "output_type": "display_data"
    }
   ],
   "source": [
    "df_RT['TOTALSUM_RET'].plot()\n",
    "plt.title(u\"Basket stock daily returns\", weight='bold');"
   ]
  },
  {
   "cell_type": "code",
   "execution_count": 58,
   "metadata": {},
   "outputs": [
    {
     "data": {
      "text/plain": [
       "0.2205482754475226"
      ]
     },
     "execution_count": 58,
     "metadata": {},
     "output_type": "execute_result"
    },
    {
     "data": {
      "image/png": "[encoded data removed]",
      "text/plain": [
       "<Figure size 432x288 with 1 Axes>"
      ]
     },
     "metadata": {},
     "output_type": "display_data"
    }
   ],
   "source": [
    "df_RT['TOTALSUM_RET'].hist(bins=50, density=True, histtype='stepfilled', alpha=0.5)\n",
    "plt.title(u\"Histogram of portfolio returns\", weight='bold')\n",
    "df_RT['TOTALSUM_RET'].std()"
   ]
  },
  {
   "cell_type": "code",
   "execution_count": 59,
   "metadata": {},
   "outputs": [
    {
     "data": {
      "image/png": "[encoded data removed]",
      "text/plain": [
       "<Figure size 432x288 with 1 Axes>"
      ]
     },
     "metadata": {},
     "output_type": "display_data"
    }
   ],
   "source": [
    "Q = df_RT['TOTALSUM_RET'].dropna().values\n",
    "scipy.stats.probplot(Q, dist=scipy.stats.norm, plot=plt.figure().add_subplot(111))\n",
    "plt.title(u\"Normal QQ-plot of portfolio daily returns\", weight=\"bold\");"
   ]
  },
  {
   "cell_type": "code",
   "execution_count": 121,
   "metadata": {},
   "outputs": [
    {
     "data": {
      "image/png": "[encoded data removed]",
      "text/plain": [
       "<Figure size 432x288 with 1 Axes>"
      ]
     },
     "metadata": {},
     "output_type": "display_data"
    }
   ],
   "source": [
    "tdf, tmean, tsigma = scipy.stats.t.fit(Q)\n",
    "scipy.stats.probplot(Q, dist=scipy.stats.t, sparams=(tdf, tmean, tsigma), plot=plt.figure().add_subplot(111))\n",
    "plt.title(u\"Student QQ-plot of portfolio daily returns\", weight=\"bold\");"
   ]
  },
  {
   "cell_type": "code",
   "execution_count": 60,
   "metadata": {},
   "outputs": [],
   "source": [
    "df_PL['TOTALSUM_PL'] = df_PL.sum(1)"
   ]
  },
  {
   "cell_type": "code",
   "execution_count": 76,
   "metadata": {},
   "outputs": [
    {
     "data": {
      "text/html": [
       "<div>\n",
       "<style scoped>\n",
       "    .dataframe tbody tr th:only-of-type {\n",
       "        vertical-align: middle;\n",
       "    }\n",
       "\n",
       "    .dataframe tbody tr th {\n",
       "        vertical-align: top;\n",
       "    }\n",
       "\n",
       "    .dataframe thead th {\n",
       "        text-align: right;\n",
       "    }\n",
       "</style>\n",
       "<table border=\"1\" class=\"dataframe\">\n",
       "  <thead>\n",
       "    <tr style=\"text-align: right;\">\n",
       "      <th></th>\n",
       "      <th>EWZ_RET</th>\n",
       "      <th>OIL US_RET</th>\n",
       "      <th>BAC US_RET</th>\n",
       "      <th>AAPL_RET</th>\n",
       "      <th>GDX_RET</th>\n",
       "      <th>FXI_RET</th>\n",
       "      <th>EEM_RET</th>\n",
       "      <th>GS_RET</th>\n",
       "      <th>XOM_RET</th>\n",
       "      <th>TOTALSUM_RET</th>\n",
       "    </tr>\n",
       "    <tr>\n",
       "      <th>Date</th>\n",
       "      <th></th>\n",
       "      <th></th>\n",
       "      <th></th>\n",
       "      <th></th>\n",
       "      <th></th>\n",
       "      <th></th>\n",
       "      <th></th>\n",
       "      <th></th>\n",
       "      <th></th>\n",
       "      <th></th>\n",
       "    </tr>\n",
       "  </thead>\n",
       "  <tbody>\n",
       "    <tr>\n",
       "      <th>2011-11-01</th>\n",
       "      <td>-0.029181</td>\n",
       "      <td>-0.018228</td>\n",
       "      <td>-0.062958</td>\n",
       "      <td>-0.020431</td>\n",
       "      <td>-0.005439</td>\n",
       "      <td>-0.015252</td>\n",
       "      <td>-0.024378</td>\n",
       "      <td>-0.054861</td>\n",
       "      <td>-0.027532</td>\n",
       "      <td>-0.258261</td>\n",
       "    </tr>\n",
       "    <tr>\n",
       "      <th>2011-10-31</th>\n",
       "      <td>-0.033173</td>\n",
       "      <td>-0.007608</td>\n",
       "      <td>-0.070748</td>\n",
       "      <td>-0.000420</td>\n",
       "      <td>-0.027282</td>\n",
       "      <td>-0.045779</td>\n",
       "      <td>-0.037382</td>\n",
       "      <td>-0.054462</td>\n",
       "      <td>-0.041605</td>\n",
       "      <td>-0.318460</td>\n",
       "    </tr>\n",
       "    <tr>\n",
       "      <th>2011-10-28</th>\n",
       "      <td>0.021698</td>\n",
       "      <td>-0.005046</td>\n",
       "      <td>0.018006</td>\n",
       "      <td>0.000642</td>\n",
       "      <td>0.023177</td>\n",
       "      <td>-0.010992</td>\n",
       "      <td>-0.008419</td>\n",
       "      <td>-0.004639</td>\n",
       "      <td>-0.004885</td>\n",
       "      <td>0.029541</td>\n",
       "    </tr>\n",
       "    <tr>\n",
       "      <th>2011-10-27</th>\n",
       "      <td>0.058685</td>\n",
       "      <td>0.034813</td>\n",
       "      <td>0.095599</td>\n",
       "      <td>0.010210</td>\n",
       "      <td>0.019665</td>\n",
       "      <td>0.057570</td>\n",
       "      <td>0.060779</td>\n",
       "      <td>0.094705</td>\n",
       "      <td>0.009991</td>\n",
       "      <td>0.442018</td>\n",
       "    </tr>\n",
       "    <tr>\n",
       "      <th>2011-10-26</th>\n",
       "      <td>0.016533</td>\n",
       "      <td>-0.022544</td>\n",
       "      <td>0.020124</td>\n",
       "      <td>0.007115</td>\n",
       "      <td>0.009051</td>\n",
       "      <td>0.040311</td>\n",
       "      <td>0.018444</td>\n",
       "      <td>0.058642</td>\n",
       "      <td>0.020519</td>\n",
       "      <td>0.168195</td>\n",
       "    </tr>\n",
       "  </tbody>\n",
       "</table>\n",
       "</div>"
      ],
      "text/plain": [
       "             EWZ_RET  OIL US_RET  BAC US_RET  AAPL_RET   GDX_RET   FXI_RET  \\\n",
       "Date                                                                         \n",
       "2011-11-01 -0.029181   -0.018228   -0.062958 -0.020431 -0.005439 -0.015252   \n",
       "2011-10-31 -0.033173   -0.007608   -0.070748 -0.000420 -0.027282 -0.045779   \n",
       "2011-10-28  0.021698   -0.005046    0.018006  0.000642  0.023177 -0.010992   \n",
       "2011-10-27  0.058685    0.034813    0.095599  0.010210  0.019665  0.057570   \n",
       "2011-10-26  0.016533   -0.022544    0.020124  0.007115  0.009051  0.040311   \n",
       "\n",
       "             EEM_RET    GS_RET   XOM_RET  TOTALSUM_RET  \n",
       "Date                                                    \n",
       "2011-11-01 -0.024378 -0.054861 -0.027532     -0.258261  \n",
       "2011-10-31 -0.037382 -0.054462 -0.041605     -0.318460  \n",
       "2011-10-28 -0.008419 -0.004639 -0.004885      0.029541  \n",
       "2011-10-27  0.060779  0.094705  0.009991      0.442018  \n",
       "2011-10-26  0.018444  0.058642  0.020519      0.168195  "
      ]
     },
     "execution_count": 76,
     "metadata": {},
     "output_type": "execute_result"
    }
   ],
   "source": [
    "df_RT.head()"
   ]
  },
  {
   "cell_type": "code",
   "execution_count": 62,
   "metadata": {},
   "outputs": [
    {
     "data": {
      "image/png": "[encoded data removed]",
      "text/plain": [
       "<Figure size 432x288 with 1 Axes>"
      ]
     },
     "metadata": {},
     "output_type": "display_data"
    }
   ],
   "source": [
    "returns = df_PL['TOTALSUM_PL']\n",
    "mean = returns.mean()\n",
    "sigma = returns.std()\n",
    "tdf, tmean, tsigma = scipy.stats.t.fit(returns.values)\n",
    "returns.hist(bins=40, density=True, histtype='stepfilled', alpha=0.5);"
   ]
  },
  {
   "cell_type": "code",
   "execution_count": 63,
   "metadata": {},
   "outputs": [
    {
     "data": {
      "text/plain": [
       "-26589.9440782164"
      ]
     },
     "execution_count": 63,
     "metadata": {},
     "output_type": "execute_result"
    }
   ],
   "source": [
    "returns.quantile(0.05)"
   ]
  },
  {
   "cell_type": "code",
   "execution_count": 64,
   "metadata": {},
   "outputs": [],
   "source": [
    "portfolio_position = df_par.sum(1).DELTA"
   ]
  },
  {
   "cell_type": "code",
   "execution_count": 65,
   "metadata": {},
   "outputs": [
    {
     "data": {
      "text/plain": [
       "809670.0"
      ]
     },
     "execution_count": 65,
     "metadata": {},
     "output_type": "execute_result"
    }
   ],
   "source": [
    "portfolio_position"
   ]
  },
  {
   "cell_type": "code",
   "execution_count": 69,
   "metadata": {},
   "outputs": [
    {
     "name": "stdout",
     "output_type": "stream",
     "text": [
      "P Var = 3.28%\n"
     ]
    }
   ],
   "source": [
    "H_var = -returns.quantile(0.05)/portfolio_position \n",
    "print (\"P Var = {0:.2f}%\".format(H_var*100))"
   ]
  },
  {
   "cell_type": "code",
   "execution_count": 66,
   "metadata": {},
   "outputs": [
    {
     "data": {
      "image/png": "[encoded data removed]",
      "text/plain": [
       "<Figure size 432x288 with 1 Axes>"
      ]
     },
     "metadata": {},
     "output_type": "display_data"
    }
   ],
   "source": [
    "support = np.linspace(returns.min(), returns.max(), 100)\n",
    "returns.hist(bins=40, density=True, histtype='stepfilled', alpha=0.5);\n",
    "plt.plot(support, scipy.stats.t.pdf(support, loc=tmean, scale=tsigma, df=tdf), \"r-\")\n",
    "plt.title(u\"Daily change in portfolio (%)\", weight='bold');"
   ]
  },
  {
   "cell_type": "code",
   "execution_count": 67,
   "metadata": {},
   "outputs": [
    {
     "data": {
      "text/plain": [
       "-27100.22050007433"
      ]
     },
     "execution_count": 67,
     "metadata": {},
     "output_type": "execute_result"
    }
   ],
   "source": [
    "scipy.stats.norm.ppf(0.05, mean, sigma)"
   ]
  },
  {
   "cell_type": "code",
   "execution_count": 68,
   "metadata": {},
   "outputs": [
    {
     "name": "stdout",
     "output_type": "stream",
     "text": [
      "P Var = 3.35%\n"
     ]
    }
   ],
   "source": [
    "P_var = -scipy.stats.norm.ppf(0.05, mean, sigma)/portfolio_position \n",
    "print (\"P Var = {0:.2f}%\".format(P_var*100))"
   ]
  },
  {
   "cell_type": "markdown",
   "metadata": {},
   "source": [
    "## Value at Risk - Monte Carlo "
   ]
  },
  {
   "cell_type": "code",
   "execution_count": 78,
   "metadata": {},
   "outputs": [],
   "source": [
    "days = 300   # time horizon\n",
    "dt = 1/float(days)\n",
    "sigma = 0.220548 # volatility\n",
    "mu = 0.004747  # drift (average growth rate)"
   ]
  },
  {
   "cell_type": "code",
   "execution_count": 74,
   "metadata": {},
   "outputs": [
    {
     "data": {
      "text/plain": [
       "array([0., 0., 0., 0., 0., 0., 0., 0., 0., 0., 0., 0., 0., 0., 0., 0., 0.,\n",
       "       0., 0., 0., 0., 0., 0., 0., 0., 0., 0., 0., 0., 0., 0., 0., 0., 0.,\n",
       "       0., 0., 0., 0., 0., 0., 0., 0., 0., 0., 0., 0., 0., 0., 0., 0., 0.,\n",
       "       0., 0., 0., 0., 0., 0., 0., 0., 0., 0., 0., 0., 0., 0., 0., 0., 0.,\n",
       "       0., 0., 0., 0., 0., 0., 0., 0., 0., 0., 0., 0., 0., 0., 0., 0., 0.,\n",
       "       0., 0., 0., 0., 0., 0., 0., 0., 0., 0., 0., 0., 0., 0., 0., 0., 0.,\n",
       "       0., 0., 0., 0., 0., 0., 0., 0., 0., 0., 0., 0., 0., 0., 0., 0., 0.,\n",
       "       0., 0., 0., 0., 0., 0., 0., 0., 0., 0., 0., 0., 0., 0., 0., 0., 0.,\n",
       "       0., 0., 0., 0., 0., 0., 0., 0., 0., 0., 0., 0., 0., 0., 0., 0., 0.,\n",
       "       0., 0., 0., 0., 0., 0., 0., 0., 0., 0., 0., 0., 0., 0., 0., 0., 0.,\n",
       "       0., 0., 0., 0., 0., 0., 0., 0., 0., 0., 0., 0., 0., 0., 0., 0., 0.,\n",
       "       0., 0., 0., 0., 0., 0., 0., 0., 0., 0., 0., 0., 0., 0., 0., 0., 0.,\n",
       "       0., 0., 0., 0., 0., 0., 0., 0., 0., 0., 0., 0., 0., 0., 0., 0., 0.,\n",
       "       0., 0., 0., 0., 0., 0., 0., 0., 0., 0., 0., 0., 0., 0., 0., 0., 0.,\n",
       "       0., 0., 0., 0., 0., 0., 0., 0., 0., 0., 0., 0., 0., 0., 0., 0., 0.,\n",
       "       0., 0., 0., 0., 0., 0., 0., 0., 0., 0., 0., 0., 0., 0., 0., 0., 0.,\n",
       "       0., 0., 0., 0., 0., 0., 0., 0., 0., 0., 0., 0., 0., 0., 0., 0., 0.,\n",
       "       0., 0., 0., 0., 0., 0., 0., 0., 0., 0., 0.])"
      ]
     },
     "execution_count": 74,
     "metadata": {},
     "output_type": "execute_result"
    }
   ],
   "source": [
    "np.zeros(days)"
   ]
  },
  {
   "cell_type": "code",
   "execution_count": 79,
   "metadata": {},
   "outputs": [],
   "source": [
    "def random_walk(startprice):\n",
    "    price = np.zeros(days)\n",
    "    shock = np.zeros(days)\n",
    "    price[0] = startprice\n",
    "    for i in range(1, days):\n",
    "        shock[i] = np.random.normal(loc=mu * dt, scale=sigma * np.sqrt(dt))\n",
    "        price[i] = max(0, price[i-1] + shock[i] * price[i-1])\n",
    "    return price"
   ]
  },
  {
   "cell_type": "code",
   "execution_count": 80,
   "metadata": {},
   "outputs": [
    {
     "data": {
      "image/png": "[encoded data removed]",
      "text/plain": [
       "<Figure size 432x288 with 1 Axes>"
      ]
     },
     "metadata": {},
     "output_type": "display_data"
    }
   ],
   "source": [
    "for run in range(30):\n",
    "    plt.plot(random_walk(10.0))\n",
    "plt.xlabel(\"Time\")\n",
    "plt.ylabel(\"Price\");"
   ]
  },
  {
   "cell_type": "code",
   "execution_count": 81,
   "metadata": {},
   "outputs": [
    {
     "data": {
      "image/png": "[encoded data removed]",
      "text/plain": [
       "<Figure size 432x288 with 1 Axes>"
      ]
     },
     "metadata": {},
     "output_type": "display_data"
    }
   ],
   "source": [
    "runs = 10000\n",
    "simulations = np.zeros(runs)\n",
    "for run in range(runs):\n",
    "    simulations[run] = random_walk(10.0)[days-1]\n",
    "q = np.percentile(simulations, 1)\n",
    "plt.hist(simulations, density=True, bins=30, histtype='stepfilled', alpha=0.5)\n",
    "plt.figtext(0.6, 0.8, u\"Start price: 10\")\n",
    "plt.figtext(0.6, 0.7, u\"Mean final price: {:.3}\".format(simulations.mean()))\n",
    "plt.figtext(0.6, 0.6, u\"VaR(0.99): {:.3}\".format(10 - q))\n",
    "plt.figtext(0.15, 0.6, u\"q(0.99): {:.3}\".format(q))\n",
    "plt.axvline(x=q, linewidth=4, color='r')\n",
    "plt.title(u\"Final price distribution after {} days\".format(days), weight='bold');"
   ]
  },
  {
   "cell_type": "code",
   "execution_count": 82,
   "metadata": {},
   "outputs": [
    {
     "data": {
      "text/plain": [
       "5.784000636200621"
      ]
     },
     "execution_count": 82,
     "metadata": {},
     "output_type": "execute_result"
    }
   ],
   "source": [
    "np.percentile(simulations, 1) "
   ]
  },
  {
   "cell_type": "code",
   "execution_count": 75,
   "metadata": {},
   "outputs": [
    {
     "data": {
      "text/html": [
       "<div>\n",
       "<style scoped>\n",
       "    .dataframe tbody tr th:only-of-type {\n",
       "        vertical-align: middle;\n",
       "    }\n",
       "\n",
       "    .dataframe tbody tr th {\n",
       "        vertical-align: top;\n",
       "    }\n",
       "\n",
       "    .dataframe thead th {\n",
       "        text-align: right;\n",
       "    }\n",
       "</style>\n",
       "<table border=\"1\" class=\"dataframe\">\n",
       "  <thead>\n",
       "    <tr style=\"text-align: right;\">\n",
       "      <th></th>\n",
       "      <th>EWZ</th>\n",
       "      <th>EWZ_RET</th>\n",
       "      <th>EWZ_PL</th>\n",
       "      <th>OIL US</th>\n",
       "      <th>OIL US_RET</th>\n",
       "      <th>OIL US_PL</th>\n",
       "      <th>BAC US</th>\n",
       "      <th>BAC US_RET</th>\n",
       "      <th>BAC US_PL</th>\n",
       "      <th>AAPL</th>\n",
       "      <th>...</th>\n",
       "      <th>FXI_PL</th>\n",
       "      <th>EEM</th>\n",
       "      <th>EEM_RET</th>\n",
       "      <th>EEM_PL</th>\n",
       "      <th>GS</th>\n",
       "      <th>GS_RET</th>\n",
       "      <th>GS_PL</th>\n",
       "      <th>XOM</th>\n",
       "      <th>XOM_RET</th>\n",
       "      <th>XOM_PL</th>\n",
       "    </tr>\n",
       "  </thead>\n",
       "  <tbody>\n",
       "    <tr>\n",
       "      <th>count</th>\n",
       "      <td>777.000000</td>\n",
       "      <td>776.000000</td>\n",
       "      <td>776.000000</td>\n",
       "      <td>777.000000</td>\n",
       "      <td>776.000000</td>\n",
       "      <td>776.000000</td>\n",
       "      <td>777.000000</td>\n",
       "      <td>776.000000</td>\n",
       "      <td>776.000000</td>\n",
       "      <td>777.000000</td>\n",
       "      <td>...</td>\n",
       "      <td>776.000000</td>\n",
       "      <td>777.000000</td>\n",
       "      <td>776.000000</td>\n",
       "      <td>776.000000</td>\n",
       "      <td>777.000000</td>\n",
       "      <td>776.000000</td>\n",
       "      <td>776.000000</td>\n",
       "      <td>777.000000</td>\n",
       "      <td>776.000000</td>\n",
       "      <td>776.000000</td>\n",
       "    </tr>\n",
       "    <tr>\n",
       "      <th>mean</th>\n",
       "      <td>62.691294</td>\n",
       "      <td>0.000790</td>\n",
       "      <td>47.821847</td>\n",
       "      <td>24.524903</td>\n",
       "      <td>-0.000745</td>\n",
       "      <td>-17.181511</td>\n",
       "      <td>13.199434</td>\n",
       "      <td>-0.000618</td>\n",
       "      <td>-4.155884</td>\n",
       "      <td>236.985641</td>\n",
       "      <td>...</td>\n",
       "      <td>21.443216</td>\n",
       "      <td>38.358814</td>\n",
       "      <td>0.000765</td>\n",
       "      <td>31.385048</td>\n",
       "      <td>140.121129</td>\n",
       "      <td>0.000322</td>\n",
       "      <td>34.161074</td>\n",
       "      <td>71.695360</td>\n",
       "      <td>0.000191</td>\n",
       "      <td>14.799552</td>\n",
       "    </tr>\n",
       "    <tr>\n",
       "      <th>std</th>\n",
       "      <td>14.391840</td>\n",
       "      <td>0.030849</td>\n",
       "      <td>1867.926214</td>\n",
       "      <td>4.653801</td>\n",
       "      <td>0.027441</td>\n",
       "      <td>632.507531</td>\n",
       "      <td>4.051617</td>\n",
       "      <td>0.055882</td>\n",
       "      <td>375.528046</td>\n",
       "      <td>98.164354</td>\n",
       "      <td>...</td>\n",
       "      <td>1135.169919</td>\n",
       "      <td>8.093572</td>\n",
       "      <td>0.029634</td>\n",
       "      <td>1216.199339</td>\n",
       "      <td>30.854583</td>\n",
       "      <td>0.034790</td>\n",
       "      <td>3692.289663</td>\n",
       "      <td>7.115156</td>\n",
       "      <td>0.021294</td>\n",
       "      <td>1647.539627</td>\n",
       "    </tr>\n",
       "    <tr>\n",
       "      <th>min</th>\n",
       "      <td>26.890000</td>\n",
       "      <td>-0.196277</td>\n",
       "      <td>-11884.555275</td>\n",
       "      <td>14.640000</td>\n",
       "      <td>-0.124956</td>\n",
       "      <td>-2880.235402</td>\n",
       "      <td>3.140000</td>\n",
       "      <td>-0.289694</td>\n",
       "      <td>-1946.740947</td>\n",
       "      <td>78.200000</td>\n",
       "      <td>...</td>\n",
       "      <td>-5558.152278</td>\n",
       "      <td>18.260000</td>\n",
       "      <td>-0.161662</td>\n",
       "      <td>-6634.608939</td>\n",
       "      <td>52.000000</td>\n",
       "      <td>-0.189596</td>\n",
       "      <td>-20121.841205</td>\n",
       "      <td>56.570000</td>\n",
       "      <td>-0.139525</td>\n",
       "      <td>-10795.069004</td>\n",
       "    </tr>\n",
       "    <tr>\n",
       "      <th>25%</th>\n",
       "      <td>54.230000</td>\n",
       "      <td>-0.012445</td>\n",
       "      <td>-753.522736</td>\n",
       "      <td>22.120000</td>\n",
       "      <td>-0.015699</td>\n",
       "      <td>-361.860335</td>\n",
       "      <td>11.240000</td>\n",
       "      <td>-0.019130</td>\n",
       "      <td>-128.553828</td>\n",
       "      <td>144.670000</td>\n",
       "      <td>...</td>\n",
       "      <td>-442.373660</td>\n",
       "      <td>33.740000</td>\n",
       "      <td>-0.010280</td>\n",
       "      <td>-421.910069</td>\n",
       "      <td>121.350000</td>\n",
       "      <td>-0.012442</td>\n",
       "      <td>-1320.434423</td>\n",
       "      <td>66.950000</td>\n",
       "      <td>-0.008164</td>\n",
       "      <td>-631.665190</td>\n",
       "    </tr>\n",
       "    <tr>\n",
       "      <th>50%</th>\n",
       "      <td>67.760000</td>\n",
       "      <td>0.001460</td>\n",
       "      <td>88.378221</td>\n",
       "      <td>24.120000</td>\n",
       "      <td>0.000000</td>\n",
       "      <td>0.000000</td>\n",
       "      <td>13.520000</td>\n",
       "      <td>-0.001390</td>\n",
       "      <td>-9.342272</td>\n",
       "      <td>242.430000</td>\n",
       "      <td>...</td>\n",
       "      <td>-4.139761</td>\n",
       "      <td>40.200000</td>\n",
       "      <td>0.000957</td>\n",
       "      <td>39.291002</td>\n",
       "      <td>147.880000</td>\n",
       "      <td>-0.000505</td>\n",
       "      <td>-53.626715</td>\n",
       "      <td>70.650000</td>\n",
       "      <td>-0.000127</td>\n",
       "      <td>-9.809933</td>\n",
       "    </tr>\n",
       "    <tr>\n",
       "      <th>75%</th>\n",
       "      <td>73.970000</td>\n",
       "      <td>0.013425</td>\n",
       "      <td>812.913398</td>\n",
       "      <td>25.860000</td>\n",
       "      <td>0.014775</td>\n",
       "      <td>340.553086</td>\n",
       "      <td>15.740000</td>\n",
       "      <td>0.017747</td>\n",
       "      <td>119.262860</td>\n",
       "      <td>331.290000</td>\n",
       "      <td>...</td>\n",
       "      <td>444.080276</td>\n",
       "      <td>45.400000</td>\n",
       "      <td>0.011978</td>\n",
       "      <td>491.565296</td>\n",
       "      <td>163.630000</td>\n",
       "      <td>0.013647</td>\n",
       "      <td>1448.345343</td>\n",
       "      <td>76.780000</td>\n",
       "      <td>0.008651</td>\n",
       "      <td>669.358772</td>\n",
       "    </tr>\n",
       "    <tr>\n",
       "      <th>max</th>\n",
       "      <td>81.580000</td>\n",
       "      <td>0.255807</td>\n",
       "      <td>15489.126016</td>\n",
       "      <td>55.150000</td>\n",
       "      <td>0.095059</td>\n",
       "      <td>2191.105882</td>\n",
       "      <td>34.480000</td>\n",
       "      <td>0.352691</td>\n",
       "      <td>2370.084986</td>\n",
       "      <td>422.240000</td>\n",
       "      <td>...</td>\n",
       "      <td>7589.004739</td>\n",
       "      <td>50.200000</td>\n",
       "      <td>0.255959</td>\n",
       "      <td>10504.538860</td>\n",
       "      <td>192.280000</td>\n",
       "      <td>0.264678</td>\n",
       "      <td>28090.307635</td>\n",
       "      <td>87.980000</td>\n",
       "      <td>0.171905</td>\n",
       "      <td>13300.295061</td>\n",
       "    </tr>\n",
       "  </tbody>\n",
       "</table>\n",
       "<p>8 rows × 27 columns</p>\n",
       "</div>"
      ],
      "text/plain": [
       "              EWZ     EWZ_RET        EWZ_PL      OIL US  OIL US_RET  \\\n",
       "count  777.000000  776.000000    776.000000  777.000000  776.000000   \n",
       "mean    62.691294    0.000790     47.821847   24.524903   -0.000745   \n",
       "std     14.391840    0.030849   1867.926214    4.653801    0.027441   \n",
       "min     26.890000   -0.196277 -11884.555275   14.640000   -0.124956   \n",
       "25%     54.230000   -0.012445   -753.522736   22.120000   -0.015699   \n",
       "50%     67.760000    0.001460     88.378221   24.120000    0.000000   \n",
       "75%     73.970000    0.013425    812.913398   25.860000    0.014775   \n",
       "max     81.580000    0.255807  15489.126016   55.150000    0.095059   \n",
       "\n",
       "         OIL US_PL      BAC US  BAC US_RET    BAC US_PL        AAPL  \\\n",
       "count   776.000000  777.000000  776.000000   776.000000  777.000000   \n",
       "mean    -17.181511   13.199434   -0.000618    -4.155884  236.985641   \n",
       "std     632.507531    4.051617    0.055882   375.528046   98.164354   \n",
       "min   -2880.235402    3.140000   -0.289694 -1946.740947   78.200000   \n",
       "25%    -361.860335   11.240000   -0.019130  -128.553828  144.670000   \n",
       "50%       0.000000   13.520000   -0.001390    -9.342272  242.430000   \n",
       "75%     340.553086   15.740000    0.017747   119.262860  331.290000   \n",
       "max    2191.105882   34.480000    0.352691  2370.084986  422.240000   \n",
       "\n",
       "           ...            FXI_PL         EEM     EEM_RET        EEM_PL  \\\n",
       "count      ...        776.000000  777.000000  776.000000    776.000000   \n",
       "mean       ...         21.443216   38.358814    0.000765     31.385048   \n",
       "std        ...       1135.169919    8.093572    0.029634   1216.199339   \n",
       "min        ...      -5558.152278   18.260000   -0.161662  -6634.608939   \n",
       "25%        ...       -442.373660   33.740000   -0.010280   -421.910069   \n",
       "50%        ...         -4.139761   40.200000    0.000957     39.291002   \n",
       "75%        ...        444.080276   45.400000    0.011978    491.565296   \n",
       "max        ...       7589.004739   50.200000    0.255959  10504.538860   \n",
       "\n",
       "               GS      GS_RET         GS_PL         XOM     XOM_RET  \\\n",
       "count  777.000000  776.000000    776.000000  777.000000  776.000000   \n",
       "mean   140.121129    0.000322     34.161074   71.695360    0.000191   \n",
       "std     30.854583    0.034790   3692.289663    7.115156    0.021294   \n",
       "min     52.000000   -0.189596 -20121.841205   56.570000   -0.139525   \n",
       "25%    121.350000   -0.012442  -1320.434423   66.950000   -0.008164   \n",
       "50%    147.880000   -0.000505    -53.626715   70.650000   -0.000127   \n",
       "75%    163.630000    0.013647   1448.345343   76.780000    0.008651   \n",
       "max    192.280000    0.264678  28090.307635   87.980000    0.171905   \n",
       "\n",
       "             XOM_PL  \n",
       "count    776.000000  \n",
       "mean      14.799552  \n",
       "std     1647.539627  \n",
       "min   -10795.069004  \n",
       "25%     -631.665190  \n",
       "50%       -9.809933  \n",
       "75%      669.358772  \n",
       "max    13300.295061  \n",
       "\n",
       "[8 rows x 27 columns]"
      ]
     },
     "execution_count": 75,
     "metadata": {},
     "output_type": "execute_result"
    }
   ],
   "source": [
    "\n",
    "df_acao.describe()"
   ]
  },
  {
   "cell_type": "code",
   "execution_count": 77,
   "metadata": {},
   "outputs": [
    {
     "data": {
      "text/html": [
       "<div>\n",
       "<style scoped>\n",
       "    .dataframe tbody tr th:only-of-type {\n",
       "        vertical-align: middle;\n",
       "    }\n",
       "\n",
       "    .dataframe tbody tr th {\n",
       "        vertical-align: top;\n",
       "    }\n",
       "\n",
       "    .dataframe thead th {\n",
       "        text-align: right;\n",
       "    }\n",
       "</style>\n",
       "<table border=\"1\" class=\"dataframe\">\n",
       "  <thead>\n",
       "    <tr style=\"text-align: right;\">\n",
       "      <th></th>\n",
       "      <th>EWZ_RET</th>\n",
       "      <th>OIL US_RET</th>\n",
       "      <th>BAC US_RET</th>\n",
       "      <th>AAPL_RET</th>\n",
       "      <th>GDX_RET</th>\n",
       "      <th>FXI_RET</th>\n",
       "      <th>EEM_RET</th>\n",
       "      <th>GS_RET</th>\n",
       "      <th>XOM_RET</th>\n",
       "      <th>TOTALSUM_RET</th>\n",
       "    </tr>\n",
       "  </thead>\n",
       "  <tbody>\n",
       "    <tr>\n",
       "      <th>count</th>\n",
       "      <td>776.000000</td>\n",
       "      <td>776.000000</td>\n",
       "      <td>776.000000</td>\n",
       "      <td>776.000000</td>\n",
       "      <td>776.000000</td>\n",
       "      <td>776.000000</td>\n",
       "      <td>776.000000</td>\n",
       "      <td>776.000000</td>\n",
       "      <td>776.000000</td>\n",
       "      <td>777.000000</td>\n",
       "    </tr>\n",
       "    <tr>\n",
       "      <th>mean</th>\n",
       "      <td>0.000790</td>\n",
       "      <td>-0.000745</td>\n",
       "      <td>-0.000618</td>\n",
       "      <td>0.002063</td>\n",
       "      <td>0.001413</td>\n",
       "      <td>0.000573</td>\n",
       "      <td>0.000765</td>\n",
       "      <td>0.000322</td>\n",
       "      <td>0.000191</td>\n",
       "      <td>0.004747</td>\n",
       "    </tr>\n",
       "    <tr>\n",
       "      <th>std</th>\n",
       "      <td>0.030849</td>\n",
       "      <td>0.027441</td>\n",
       "      <td>0.055882</td>\n",
       "      <td>0.022374</td>\n",
       "      <td>0.032154</td>\n",
       "      <td>0.030320</td>\n",
       "      <td>0.029634</td>\n",
       "      <td>0.034790</td>\n",
       "      <td>0.021294</td>\n",
       "      <td>0.220548</td>\n",
       "    </tr>\n",
       "    <tr>\n",
       "      <th>min</th>\n",
       "      <td>-0.196277</td>\n",
       "      <td>-0.124956</td>\n",
       "      <td>-0.289694</td>\n",
       "      <td>-0.091502</td>\n",
       "      <td>-0.155322</td>\n",
       "      <td>-0.148455</td>\n",
       "      <td>-0.161662</td>\n",
       "      <td>-0.189596</td>\n",
       "      <td>-0.139525</td>\n",
       "      <td>-1.061870</td>\n",
       "    </tr>\n",
       "    <tr>\n",
       "      <th>25%</th>\n",
       "      <td>-0.012445</td>\n",
       "      <td>-0.015699</td>\n",
       "      <td>-0.019130</td>\n",
       "      <td>-0.009360</td>\n",
       "      <td>-0.013627</td>\n",
       "      <td>-0.011816</td>\n",
       "      <td>-0.010280</td>\n",
       "      <td>-0.012442</td>\n",
       "      <td>-0.008164</td>\n",
       "      <td>-0.080623</td>\n",
       "    </tr>\n",
       "    <tr>\n",
       "      <th>50%</th>\n",
       "      <td>0.001460</td>\n",
       "      <td>0.000000</td>\n",
       "      <td>-0.001390</td>\n",
       "      <td>0.001886</td>\n",
       "      <td>0.000675</td>\n",
       "      <td>-0.000111</td>\n",
       "      <td>0.000957</td>\n",
       "      <td>-0.000505</td>\n",
       "      <td>-0.000127</td>\n",
       "      <td>0.009720</td>\n",
       "    </tr>\n",
       "    <tr>\n",
       "      <th>75%</th>\n",
       "      <td>0.013425</td>\n",
       "      <td>0.014775</td>\n",
       "      <td>0.017747</td>\n",
       "      <td>0.013268</td>\n",
       "      <td>0.017065</td>\n",
       "      <td>0.011861</td>\n",
       "      <td>0.011978</td>\n",
       "      <td>0.013647</td>\n",
       "      <td>0.008651</td>\n",
       "      <td>0.093707</td>\n",
       "    </tr>\n",
       "    <tr>\n",
       "      <th>max</th>\n",
       "      <td>0.255807</td>\n",
       "      <td>0.095059</td>\n",
       "      <td>0.352691</td>\n",
       "      <td>0.139050</td>\n",
       "      <td>0.265385</td>\n",
       "      <td>0.202698</td>\n",
       "      <td>0.255959</td>\n",
       "      <td>0.264678</td>\n",
       "      <td>0.171905</td>\n",
       "      <td>1.381720</td>\n",
       "    </tr>\n",
       "  </tbody>\n",
       "</table>\n",
       "</div>"
      ],
      "text/plain": [
       "          EWZ_RET  OIL US_RET  BAC US_RET    AAPL_RET     GDX_RET     FXI_RET  \\\n",
       "count  776.000000  776.000000  776.000000  776.000000  776.000000  776.000000   \n",
       "mean     0.000790   -0.000745   -0.000618    0.002063    0.001413    0.000573   \n",
       "std      0.030849    0.027441    0.055882    0.022374    0.032154    0.030320   \n",
       "min     -0.196277   -0.124956   -0.289694   -0.091502   -0.155322   -0.148455   \n",
       "25%     -0.012445   -0.015699   -0.019130   -0.009360   -0.013627   -0.011816   \n",
       "50%      0.001460    0.000000   -0.001390    0.001886    0.000675   -0.000111   \n",
       "75%      0.013425    0.014775    0.017747    0.013268    0.017065    0.011861   \n",
       "max      0.255807    0.095059    0.352691    0.139050    0.265385    0.202698   \n",
       "\n",
       "          EEM_RET      GS_RET     XOM_RET  TOTALSUM_RET  \n",
       "count  776.000000  776.000000  776.000000    777.000000  \n",
       "mean     0.000765    0.000322    0.000191      0.004747  \n",
       "std      0.029634    0.034790    0.021294      0.220548  \n",
       "min     -0.161662   -0.189596   -0.139525     -1.061870  \n",
       "25%     -0.010280   -0.012442   -0.008164     -0.080623  \n",
       "50%      0.000957   -0.000505   -0.000127      0.009720  \n",
       "75%      0.011978    0.013647    0.008651      0.093707  \n",
       "max      0.255959    0.264678    0.171905      1.381720  "
      ]
     },
     "execution_count": 77,
     "metadata": {},
     "output_type": "execute_result"
    }
   ],
   "source": [
    "df_RT.describe()"
   ]
  },
  {
   "cell_type": "code",
   "execution_count": null,
   "metadata": {},
   "outputs": [],
   "source": []
  }
 ],
 "metadata": {
  "kernelspec": {
   "display_name": "Python 3",
   "language": "python",
   "name": "python3"
  },
  "language_info": {
   "codemirror_mode": {
    "name": "ipython",
    "version": 3
   },
   "file_extension": ".py",
   "mimetype": "text/x-python",
   "name": "python",
   "nbconvert_exporter": "python",
   "pygments_lexer": "ipython3",
   "version": "3.6.5"
  }
 },
 "nbformat": 4,
 "nbformat_minor": 2
}
